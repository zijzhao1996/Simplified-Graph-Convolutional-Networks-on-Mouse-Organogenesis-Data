{
 "cells": [
  {
   "cell_type": "code",
   "execution_count": 1,
   "metadata": {},
   "outputs": [],
   "source": [
    "import time\n",
    "import os\n",
    "import numpy as np\n",
    "import pandas as pd\n",
    "import matrix_code\n",
    "\n",
    "from scipy import sparse, linalg\n",
    "from sklearn.linear_model import LogisticRegressionCV\n",
    "from sklearn.model_selection import train_test_split\n",
    "from sklearn.metrics import accuracy_score\n",
    "from random import sample\n",
    "from itertools import combinations"
   ]
  },
  {
   "cell_type": "code",
   "execution_count": 2,
   "metadata": {},
   "outputs": [],
   "source": [
    "dir_path = \"/mnt/lab_data/kundaje/zijzhao/\"\n",
    "cell_annotate = pd.read_csv(os.path.join(dir_path, \"cell_annotate.csv\"))"
   ]
  },
  {
   "cell_type": "code",
   "execution_count": 3,
   "metadata": {},
   "outputs": [],
   "source": [
    "gene_annotate = pd.read_csv(os.path.join(dir_path, \"gene_annotate.csv\"))"
   ]
  },
  {
   "cell_type": "code",
   "execution_count": 4,
   "metadata": {},
   "outputs": [],
   "source": [
    "# we only choose 'Neural tube and notochord trajectory' 632188 cells\n",
    "NTN_traj_annotate = cell_annotate.loc[cell_annotate['Main_trajectory'] == \n",
    "                                      'Neural tube and notochord trajectory'].reset_index(drop=True)"
   ]
  },
  {
   "cell_type": "code",
   "execution_count": 5,
   "metadata": {},
   "outputs": [],
   "source": [
    "# preprocess the feature matrix\n",
    "count = sparse.load_npz(os.path.join(dir_path, \"organogenesis_mouse.npz\"))"
   ]
  },
  {
   "cell_type": "code",
   "execution_count": 6,
   "metadata": {},
   "outputs": [],
   "source": [
    "ntn_ind = cell_annotate.index[cell_annotate['Main_trajectory'] == \n",
    "                                      'Neural tube and notochord trajectory'].to_numpy()\n",
    "X = count[ntn_ind,:]"
   ]
  },
  {
   "cell_type": "code",
   "execution_count": 7,
   "metadata": {},
   "outputs": [],
   "source": [
    "# construct X\n",
    "## Preoprocess I: only keep protein coding genes\n",
    "procoding_ind = gene_annotate.index[gene_annotate['gene_type']=='protein_coding'].to_numpy()\n",
    "gene_annotate = gene_annotate.loc[gene_annotate['gene_type']=='protein_coding'].reset_index(drop=True)\n",
    "X = X.transpose()[procoding_ind, :].transpose()"
   ]
  },
  {
   "cell_type": "code",
   "execution_count": 8,
   "metadata": {},
   "outputs": [],
   "source": [
    "## Preprocess II: filter out no expression genes\n",
    "zeroread_ind = np.where(X.sum(axis=0)!=0)[1]\n",
    "gene_annotate = gene_annotate.iloc[zeroread_ind].reset_index(drop=True)\n",
    "X = X.transpose()[zeroread_ind, :].transpose() "
   ]
  },
  {
   "cell_type": "code",
   "execution_count": 9,
   "metadata": {},
   "outputs": [],
   "source": [
    "## Preprocess III: filter out mito genes (genes starting with 'mt-')\n",
    "gene_name = np.array([1 if 'mt-' in i else 0 for i in np.array(gene_annotate['gene_short_name'])])\n",
    "nonmt_ind = np.where(gene_name == 0)[0]\n",
    "gene_annotate = gene_annotate.iloc[nonmt_ind].reset_index(drop=True)\n",
    "X = X.transpose()[nonmt_ind, :].transpose() "
   ]
  },
  {
   "cell_type": "code",
   "execution_count": 10,
   "metadata": {},
   "outputs": [],
   "source": [
    "# helper function\n",
    "def perReadScore(X, X_norm, axis=0):\n",
    "    \"\"\"\n",
    "    Helper function for preprocess.\n",
    "    sums of squares of normalized column entries / num of reads\n",
    "    \"\"\"\n",
    "\n",
    "    num_reads = X.sum(axis=0)\n",
    "    return X_norm.power(2).sum(axis=axis)/num_reads "
   ]
  },
  {
   "cell_type": "code",
   "execution_count": 11,
   "metadata": {},
   "outputs": [],
   "source": [
    "## Preprocess IV: Normalization & filter out low expression variance genes\n",
    "## only keep genes with variance above 10% quantile\n",
    "X_norm = matrix_code.deviance_residuals(X)\n",
    "score = perReadScore(X, X_norm)\n",
    "quantile = np.quantile(score, 0.1)\n",
    "abovequant_ind = np.where(score >= quantile)[1]\n",
    "gene_annotate = gene_annotate.iloc[abovequant_ind].reset_index(drop=True)\n",
    "X_norm = X_norm.transpose()[abovequant_ind, :].transpose()"
   ]
  },
  {
   "cell_type": "code",
   "execution_count": 29,
   "metadata": {},
   "outputs": [
    {
     "data": {
      "text/plain": [
       "<632188x15806 sparse matrix of type '<class 'numpy.float64'>'\n",
       "\twith 183942311 stored elements in Compressed Sparse Row format>"
      ]
     },
     "execution_count": 29,
     "metadata": {},
     "output_type": "execute_result"
    }
   ],
   "source": [
    "X_norm"
   ]
  },
  {
   "cell_type": "code",
   "execution_count": 13,
   "metadata": {},
   "outputs": [],
   "source": [
    "import scanpy as sc, anndata"
   ]
  },
  {
   "cell_type": "code",
   "execution_count": null,
   "metadata": {},
   "outputs": [],
   "source": [
    "itime = time.time()\n",
    "nbrs = sc.pp.neighbors(anndata.AnnData(X_norm), use_rep='X')\n",
    "print(time.time() - itime)"
   ]
  },
  {
   "cell_type": "code",
   "execution_count": 38,
   "metadata": {},
   "outputs": [
    {
     "ename": "AttributeError",
     "evalue": "'NoneType' object has no attribute 'uns'",
     "output_type": "error",
     "traceback": [
      "\u001b[0;31m---------------------------------------------------------------------------\u001b[0m",
      "\u001b[0;31mAttributeError\u001b[0m                            Traceback (most recent call last)",
      "\u001b[0;32m<ipython-input-38-66c6120c86d4>\u001b[0m in \u001b[0;36m<module>\u001b[0;34m\u001b[0m\n\u001b[0;32m----> 1\u001b[0;31m \u001b[0mtest_nbrs\u001b[0m\u001b[0;34m.\u001b[0m\u001b[0muns\u001b[0m\u001b[0;34m[\u001b[0m\u001b[0;34m'neighbors'\u001b[0m\u001b[0;34m]\u001b[0m\u001b[0;34m[\u001b[0m\u001b[0;34m'connectivities'\u001b[0m\u001b[0;34m]\u001b[0m\u001b[0;34m\u001b[0m\u001b[0;34m\u001b[0m\u001b[0m\n\u001b[0m",
      "\u001b[0;31mAttributeError\u001b[0m: 'NoneType' object has no attribute 'uns'"
     ]
    }
   ],
   "source": [
    "test_nbrs.uns['neighbors']['connectivities']"
   ]
  }
 ],
 "metadata": {
  "kernelspec": {
   "display_name": "Python 3",
   "language": "python",
   "name": "python3"
  },
  "language_info": {
   "codemirror_mode": {
    "name": "ipython",
    "version": 3
   },
   "file_extension": ".py",
   "mimetype": "text/x-python",
   "name": "python",
   "nbconvert_exporter": "python",
   "pygments_lexer": "ipython3",
   "version": "3.7.3"
  }
 },
 "nbformat": 4,
 "nbformat_minor": 2
}
